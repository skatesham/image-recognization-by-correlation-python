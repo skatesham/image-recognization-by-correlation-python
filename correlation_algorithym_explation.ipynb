{
 "cells": [
  {
   "cell_type": "markdown",
   "id": "91e13f7f",
   "metadata": {},
   "source": [
    "# Algorithm Explanation\n",
    "We are going to execute the image processing throw stages\n",
    "\n",
    "\n",
    "__Processing image stages (most common)__\n",
    "\n",
    "1, Acquisition  \n",
    "2. Segmentation   \n",
    "3. Represetation  \n",
    "4. Classtification  \n"
   ]
  },
  {
   "cell_type": "code",
   "execution_count": 82,
   "id": "7649a431",
   "metadata": {},
   "outputs": [],
   "source": [
    "import json\n",
    "from src.domain.acquisition_module import AcquisitionModule\n",
    "from src.domain.classification_module import ClassificationModule\n",
    "from src.domain.representation_module import RepresentationModule\n",
    "from src.domain.segmentation_module import SegmentationModule"
   ]
  },
  {
   "attachments": {},
   "cell_type": "markdown",
   "id": "4cf3049c",
   "metadata": {},
   "source": [
    "### Acquisition Stage (Acquisition from disk)\n",
    "\n",
    "\n",
    "##### Target processing Image\n",
    "\n",
    "![alt-text](https://github.com/skatesham/image-recognization-by-correlation-python/blob/39bb4755ee62633a5ea72b26e8e91ac0cb0ab599/resources/img/numbers/all_numbers.png?raw=true)\n",
    "\n",
    "##### Class patterns:\n",
    "\n",
    "![alt-text](https://github.com/skatesham/image-recognization-by-correlation-python/blob/39bb4755ee62633a5ea72b26e8e91ac0cb0ab599/resources/img/numbers/0.png?raw=true) ![alt-text](https://github.com/skatesham/image-recognization-by-correlation-python/blob/39bb4755ee62633a5ea72b26e8e91ac0cb0ab599/resources/img/numbers/1.png?raw=true) ![alt-text](https://github.com/skatesham/image-recognization-by-correlation-python/blob/39bb4755ee62633a5ea72b26e8e91ac0cb0ab599/resources/img/numbers/2.png?raw=true) ![alt-text](https://github.com/skatesham/image-recognization-by-correlation-python/blob/39bb4755ee62633a5ea72b26e8e91ac0cb0ab599/resources/img/numbers/3.png?raw=true) ![alt-text](https://github.com/skatesham/image-recognization-by-correlation-python/blob/39bb4755ee62633a5ea72b26e8e91ac0cb0ab599/resources/img/numbers/4.png?raw=true) ![alt-text](https://github.com/skatesham/image-recognization-by-correlation-python/blob/39bb4755ee62633a5ea72b26e8e91ac0cb0ab599/resources/img/numbers/5.png?raw=true) ![alt-text](https://github.com/skatesham/image-recognization-by-correlation-python/blob/39bb4755ee62633a5ea72b26e8e91ac0cb0ab599/resources/img/numbers/6.png?raw=true) ![alt-text](https://github.com/skatesham/image-recognization-by-correlation-python/blob/39bb4755ee62633a5ea72b26e8e91ac0cb0ab599/resources/img/numbers/7.png?raw=true) ![alt-text](https://github.com/skatesham/image-recognization-by-correlation-python/blob/39bb4755ee62633a5ea72b26e8e91ac0cb0ab599/resources/img/numbers/8.png?raw=true) ![alt-text](https://github.com/skatesham/image-recognization-by-correlation-python/blob/39bb4755ee62633a5ea72b26e8e91ac0cb0ab599/resources/img/numbers/9.png?raw=true) \n",
    "\n"
   ]
  },
  {
   "cell_type": "code",
   "execution_count": 83,
   "id": "9216d761",
   "metadata": {},
   "outputs": [
    {
     "name": "stdout",
     "output_type": "stream",
     "text": [
      "Target image: name=tests/img/all_numbers.png, width=95, height=21, pixels\n",
      "Patterns:\n",
      "   Pattern: class=0, width=12, height=21, pixels\n",
      "   Pattern: class=1, width=12, height=21, pixels\n",
      "   Pattern: class=2, width=12, height=21, pixels\n",
      "   Pattern: class=3, width=12, height=21, pixels\n",
      "   Pattern: class=4, width=12, height=21, pixels\n",
      "   Pattern: class=5, width=12, height=21, pixels\n",
      "   Pattern: class=6, width=12, height=21, pixels\n",
      "   Pattern: class=7, width=12, height=21, pixels\n",
      "   Pattern: class=8, width=12, height=21, pixels\n",
      "   Pattern: class=9, width=12, height=21, pixels\n"
     ]
    }
   ],
   "source": [
    "target_filename = filename = 'tests/img/all_numbers.png'\n",
    "patterns_filename = \"resources/img/numbers/{}.png\"\n",
    "target_image, patterns = AcquisitionModule.build_target_and_patterns(target_filename, patterns_filename)\n",
    "print(f\"Target image: name={target_image.class_name}, width={target_image.width}, height={target_image.height}, pixels\")\n",
    "print(\"Patterns:\")\n",
    "for pattern in patterns:\n",
    "    print(f\"   Pattern: class={pattern.class_name}, width={pattern.width}, height={pattern.height}, pixels\")\n",
    "    \n",
    "    "
   ]
  },
  {
   "cell_type": "markdown",
   "id": "d632683f",
   "metadata": {},
   "source": [
    "### Segmentation Stage"
   ]
  },
  {
   "cell_type": "code",
   "execution_count": 84,
   "id": "a1c43dee",
   "metadata": {},
   "outputs": [
    {
     "name": "stdout",
     "output_type": "stream",
     "text": [
      "Segments: (first 5 and last 5)\n",
      "f(0, 0) = first_pixels([255, 255, 255, 255, 255])   \n",
      "f(1, 0) = first_pixels([255, 255, 255, 255, 255])   \n",
      "f(2, 0) = first_pixels([255, 255, 255, 255, 255])   \n",
      "f(3, 0) = first_pixels([255, 255, 255, 255, 255])   \n",
      "f(4, 0) = first_pixels([255, 255, 255, 255, 255])   \n",
      "f(79, 0) = first_pixels([255, 255, 255, 255, 255])   \n",
      "f(80, 0) = first_pixels([255, 255, 255, 255, 255])   \n",
      "f(81, 0) = first_pixels([255, 255, 255, 255, 255])   \n",
      "f(82, 0) = first_pixels([255, 255, 255, 255, 255])   \n",
      "f(83, 0) = first_pixels([255, 255, 255, 255, 255])   \n"
     ]
    }
   ],
   "source": [
    "target_segments = SegmentationModule.extract_segments(target_image, patterns[0])\n",
    "print(\"Segments: (first 5 and last 5)\")\n",
    "segments = target_segments[:5]\n",
    "segments.extend(target_segments[-5:])\n",
    "for segment in segments:\n",
    "    print(f\"f({ segment.delta_x }, { segment.delta_y }) = first_pixels({ segment.pixels[:5] })   \")\n",
    "    "
   ]
  },
  {
   "cell_type": "markdown",
   "id": "7c3128cd",
   "metadata": {},
   "source": [
    "### Representation stage"
   ]
  },
  {
   "cell_type": "code",
   "execution_count": 85,
   "id": "f3a9df10",
   "metadata": {},
   "outputs": [
    {
     "name": "stdout",
     "output_type": "stream",
     "text": [
      "{\n",
      "  \"Class: 0\": [\n",
      "    \"f(0, 0)=0.85\",\n",
      "    \"f(31, 0)=0.83\"\n",
      "  ],\n",
      "  \"Class: 1\": [\n",
      "    \"f(82, 0)=1.0\",\n",
      "    \"f(53, 0)=0.62\"\n",
      "  ],\n",
      "  \"Class: 2\": [\n",
      "    \"f(72, 0)=0.98\",\n",
      "    \"f(71, 0)=0.83\"\n",
      "  ],\n",
      "  \"Class: 3\": [\n",
      "    \"f(61, 0)=0.89\",\n",
      "    \"f(62, 0)=0.89\"\n",
      "  ],\n",
      "  \"Class: 4\": [\n",
      "    \"f(51, 0)=0.97\",\n",
      "    \"f(52, 0)=0.8\"\n",
      "  ],\n",
      "  \"Class: 5\": [\n",
      "    \"f(41, 0)=1.0\",\n",
      "    \"f(31, 0)=0.88\"\n",
      "  ],\n",
      "  \"Class: 6\": [\n",
      "    \"f(31, 0)=0.97\",\n",
      "    \"f(10, 0)=0.86\"\n",
      "  ],\n",
      "  \"Class: 7\": [\n",
      "    \"f(20, 0)=0.91\",\n",
      "    \"f(21, 0)=0.89\"\n",
      "  ],\n",
      "  \"Class: 8\": [\n",
      "    \"f(10, 0)=0.97\",\n",
      "    \"f(31, 0)=0.87\"\n",
      "  ],\n",
      "  \"Class: 9\": [\n",
      "    \"f(0, 0)=1.0\",\n",
      "    \"f(10, 0)=0.77\"\n",
      "  ]\n",
      "}\n"
     ]
    }
   ],
   "source": [
    "results = RepresentationModule.represent_results(target_segments, patterns)\n",
    "\n",
    "def to_less_results(result):\n",
    "    return [str(r) for r in result[:2]]\n",
    "\n",
    "print(json.dumps(dict((\"Class: \" + key.class_name, to_less_results(results[key])) for key in results), indent=2))"
   ]
  },
  {
   "cell_type": "markdown",
   "id": "f8b1792c",
   "metadata": {},
   "source": [
    "### Classification stage\n",
    "\n",
    "##### Target processing Image\n",
    "\n",
    "![alt-text](https://github.com/skatesham/image-recognization-by-correlation-python/blob/39bb4755ee62633a5ea72b26e8e91ac0cb0ab599/resources/img/numbers/all_numbers.png?raw=true)"
   ]
  },
  {
   "cell_type": "code",
   "execution_count": 86,
   "id": "1702e048",
   "metadata": {},
   "outputs": [
    {
     "name": "stdout",
     "output_type": "stream",
     "text": [
      "987654321\n"
     ]
    }
   ],
   "source": [
    "answer = ClassificationModule.classify_results(results, patterns)\n",
    "print(answer)"
   ]
  },
  {
   "cell_type": "code",
   "execution_count": null,
   "id": "821506df",
   "metadata": {},
   "outputs": [],
   "source": []
  }
 ],
 "metadata": {
  "kernelspec": {
   "display_name": "Python 3",
   "language": "python",
   "name": "python3"
  },
  "language_info": {
   "codemirror_mode": {
    "name": "ipython",
    "version": 3
   },
   "file_extension": ".py",
   "mimetype": "text/x-python",
   "name": "python",
   "nbconvert_exporter": "python",
   "pygments_lexer": "ipython3",
   "version": "3.6.9"
  }
 },
 "nbformat": 4,
 "nbformat_minor": 5
}
